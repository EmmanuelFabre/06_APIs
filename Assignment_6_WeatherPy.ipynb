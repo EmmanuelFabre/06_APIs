{
 "cells": [
  {
   "cell_type": "code",
   "execution_count": 28,
   "metadata": {},
   "outputs": [],
   "source": [
    "#import dependencies\n",
    "import pandas as pd\n",
    "import numpy as np\n",
    "import matplotlib.pyplot as plt\n",
    "import random\n",
    "import openweathermapy.core as owm\n",
    "import requests\n",
    "#config\n",
    "from config import api_key\n"
   ]
  },
  {
   "cell_type": "code",
   "execution_count": 29,
   "metadata": {},
   "outputs": [],
   "source": [
    "#create settings dictionary with info we're interested in\n",
    "settings = {\"units\": \"imperial\", \"appid\": api_key}"
   ]
  },
  {
   "cell_type": "code",
   "execution_count": 30,
   "metadata": {},
   "outputs": [
    {
     "data": {
      "text/plain": [
       "'0fac29401c2e0d29bd9bda47ed09d0d3'"
      ]
     },
     "execution_count": 30,
     "metadata": {},
     "output_type": "execute_result"
    }
   ],
   "source": [
    "api_key"
   ]
  },
  {
   "cell_type": "code",
   "execution_count": 24,
   "metadata": {},
   "outputs": [],
   "source": [
    "##empty lists to hold response info\n",
    "city_name = []\n",
    "temps = []\n",
    "humidity = []\n",
    "#cloudiness = []\n",
    "#wind_speed = []\n",
    "#lat = []\n",
    "#lng = []\n",
    "####\n",
    "#city count\n",
    "#ct = 0\n",
    "#city ID\n",
    "#city_num = 1\n",
    "\n",
    "\n",
    "#save config info\n",
    "#url = \"http://api.openweathermap.org/data/2.5/weather?\"\n",
    "#units = \"imperial\"\n",
    "#query_url = f\"{url}appid={api_key}&units={units}&q={city_name}\"\n"
   ]
  },
  {
   "cell_type": "code",
   "execution_count": 27,
   "metadata": {},
   "outputs": [
    {
     "data": {
      "text/html": [
       "<div>\n",
       "<style scoped>\n",
       "    .dataframe tbody tr th:only-of-type {\n",
       "        vertical-align: middle;\n",
       "    }\n",
       "\n",
       "    .dataframe tbody tr th {\n",
       "        vertical-align: top;\n",
       "    }\n",
       "\n",
       "    .dataframe thead th {\n",
       "        text-align: right;\n",
       "    }\n",
       "</style>\n",
       "<table border=\"1\" class=\"dataframe\">\n",
       "  <thead>\n",
       "    <tr style=\"text-align: right;\">\n",
       "      <th></th>\n",
       "      <th>city name</th>\n",
       "      <th>city ID</th>\n",
       "    </tr>\n",
       "  </thead>\n",
       "  <tbody>\n",
       "  </tbody>\n",
       "</table>\n",
       "</div>"
      ],
      "text/plain": [
       "Empty DataFrame\n",
       "Columns: [city name, city ID]\n",
       "Index: []"
      ]
     },
     "execution_count": 27,
     "metadata": {},
     "output_type": "execute_result"
    }
   ],
   "source": [
    "#Create DF from cities, city_name, city_num\n",
    "\n",
    "city_dict = { \"city name\": city_name, \"city ID\" : city_num}\n",
    "city_data = pd.DataFrame(city_dict)\n",
    "city_data.head()\n",
    "\n",
    "\n",
    "\n"
   ]
  },
  {
   "cell_type": "code",
   "execution_count": 26,
   "metadata": {},
   "outputs": [
    {
     "ename": "KeyError",
     "evalue": "'the label [0] is not in the [index]'",
     "output_type": "error",
     "traceback": [
      "\u001b[0;31m---------------------------------------------------------------------------\u001b[0m",
      "\u001b[0;31mKeyError\u001b[0m                                  Traceback (most recent call last)",
      "\u001b[0;32m~/anaconda3/lib/python3.7/site-packages/pandas/core/indexing.py\u001b[0m in \u001b[0;36m_validate_key\u001b[0;34m(self, key, axis)\u001b[0m\n\u001b[1;32m   1789\u001b[0m                 \u001b[0;32mif\u001b[0m \u001b[0;32mnot\u001b[0m \u001b[0max\u001b[0m\u001b[0;34m.\u001b[0m\u001b[0mcontains\u001b[0m\u001b[0;34m(\u001b[0m\u001b[0mkey\u001b[0m\u001b[0;34m)\u001b[0m\u001b[0;34m:\u001b[0m\u001b[0;34m\u001b[0m\u001b[0m\n\u001b[0;32m-> 1790\u001b[0;31m                     \u001b[0merror\u001b[0m\u001b[0;34m(\u001b[0m\u001b[0;34m)\u001b[0m\u001b[0;34m\u001b[0m\u001b[0m\n\u001b[0m\u001b[1;32m   1791\u001b[0m             \u001b[0;32mexcept\u001b[0m \u001b[0mTypeError\u001b[0m \u001b[0;32mas\u001b[0m \u001b[0me\u001b[0m\u001b[0;34m:\u001b[0m\u001b[0;34m\u001b[0m\u001b[0m\n",
      "\u001b[0;32m~/anaconda3/lib/python3.7/site-packages/pandas/core/indexing.py\u001b[0m in \u001b[0;36merror\u001b[0;34m()\u001b[0m\n\u001b[1;32m   1784\u001b[0m                                .format(key=key,\n\u001b[0;32m-> 1785\u001b[0;31m                                        axis=self.obj._get_axis_name(axis)))\n\u001b[0m\u001b[1;32m   1786\u001b[0m \u001b[0;34m\u001b[0m\u001b[0m\n",
      "\u001b[0;31mKeyError\u001b[0m: 'the label [0] is not in the [index]'",
      "\nDuring handling of the above exception, another exception occurred:\n",
      "\u001b[0;31mKeyError\u001b[0m                                  Traceback (most recent call last)",
      "\u001b[0;32m<ipython-input-26-f44c9be85305>\u001b[0m in \u001b[0;36m<module>\u001b[0;34m()\u001b[0m\n\u001b[1;32m      7\u001b[0m \u001b[0;32mwhile\u001b[0m \u001b[0mct\u001b[0m \u001b[0;34m<\u001b[0m \u001b[0;36m550\u001b[0m\u001b[0;34m:\u001b[0m\u001b[0;34m\u001b[0m\u001b[0m\n\u001b[1;32m      8\u001b[0m \u001b[0;34m\u001b[0m\u001b[0m\n\u001b[0;32m----> 9\u001b[0;31m     \u001b[0mcit\u001b[0m \u001b[0;34m=\u001b[0m \u001b[0mcity_data\u001b[0m\u001b[0;34m.\u001b[0m\u001b[0mloc\u001b[0m\u001b[0;34m[\u001b[0m\u001b[0mct\u001b[0m\u001b[0;34m,\u001b[0m \u001b[0;34m'City'\u001b[0m\u001b[0;34m]\u001b[0m\u001b[0;34m\u001b[0m\u001b[0m\n\u001b[0m\u001b[1;32m     10\u001b[0m     \u001b[0murl\u001b[0m \u001b[0;34m=\u001b[0m \u001b[0;34m\"http://api.openweathermap.org/data/2.5/weather?\"\u001b[0m\u001b[0;34m\u001b[0m\u001b[0m\n\u001b[1;32m     11\u001b[0m     \u001b[0mquery_url\u001b[0m \u001b[0;34m=\u001b[0m \u001b[0;34mf\"{url}appid={api_key}&units=imperial&q={cit}\"\u001b[0m\u001b[0;34m\u001b[0m\u001b[0m\n",
      "\u001b[0;32m~/anaconda3/lib/python3.7/site-packages/pandas/core/indexing.py\u001b[0m in \u001b[0;36m__getitem__\u001b[0;34m(self, key)\u001b[0m\n\u001b[1;32m   1470\u001b[0m             \u001b[0;32mexcept\u001b[0m \u001b[0;34m(\u001b[0m\u001b[0mKeyError\u001b[0m\u001b[0;34m,\u001b[0m \u001b[0mIndexError\u001b[0m\u001b[0;34m)\u001b[0m\u001b[0;34m:\u001b[0m\u001b[0;34m\u001b[0m\u001b[0m\n\u001b[1;32m   1471\u001b[0m                 \u001b[0;32mpass\u001b[0m\u001b[0;34m\u001b[0m\u001b[0m\n\u001b[0;32m-> 1472\u001b[0;31m             \u001b[0;32mreturn\u001b[0m \u001b[0mself\u001b[0m\u001b[0;34m.\u001b[0m\u001b[0m_getitem_tuple\u001b[0m\u001b[0;34m(\u001b[0m\u001b[0mkey\u001b[0m\u001b[0;34m)\u001b[0m\u001b[0;34m\u001b[0m\u001b[0m\n\u001b[0m\u001b[1;32m   1473\u001b[0m         \u001b[0;32melse\u001b[0m\u001b[0;34m:\u001b[0m\u001b[0;34m\u001b[0m\u001b[0m\n\u001b[1;32m   1474\u001b[0m             \u001b[0;31m# we by definition only have the 0th axis\u001b[0m\u001b[0;34m\u001b[0m\u001b[0;34m\u001b[0m\u001b[0m\n",
      "\u001b[0;32m~/anaconda3/lib/python3.7/site-packages/pandas/core/indexing.py\u001b[0m in \u001b[0;36m_getitem_tuple\u001b[0;34m(self, tup)\u001b[0m\n\u001b[1;32m    868\u001b[0m     \u001b[0;32mdef\u001b[0m \u001b[0m_getitem_tuple\u001b[0m\u001b[0;34m(\u001b[0m\u001b[0mself\u001b[0m\u001b[0;34m,\u001b[0m \u001b[0mtup\u001b[0m\u001b[0;34m)\u001b[0m\u001b[0;34m:\u001b[0m\u001b[0;34m\u001b[0m\u001b[0m\n\u001b[1;32m    869\u001b[0m         \u001b[0;32mtry\u001b[0m\u001b[0;34m:\u001b[0m\u001b[0;34m\u001b[0m\u001b[0m\n\u001b[0;32m--> 870\u001b[0;31m             \u001b[0;32mreturn\u001b[0m \u001b[0mself\u001b[0m\u001b[0;34m.\u001b[0m\u001b[0m_getitem_lowerdim\u001b[0m\u001b[0;34m(\u001b[0m\u001b[0mtup\u001b[0m\u001b[0;34m)\u001b[0m\u001b[0;34m\u001b[0m\u001b[0m\n\u001b[0m\u001b[1;32m    871\u001b[0m         \u001b[0;32mexcept\u001b[0m \u001b[0mIndexingError\u001b[0m\u001b[0;34m:\u001b[0m\u001b[0;34m\u001b[0m\u001b[0m\n\u001b[1;32m    872\u001b[0m             \u001b[0;32mpass\u001b[0m\u001b[0;34m\u001b[0m\u001b[0m\n",
      "\u001b[0;32m~/anaconda3/lib/python3.7/site-packages/pandas/core/indexing.py\u001b[0m in \u001b[0;36m_getitem_lowerdim\u001b[0;34m(self, tup)\u001b[0m\n\u001b[1;32m    996\u001b[0m         \u001b[0;32mfor\u001b[0m \u001b[0mi\u001b[0m\u001b[0;34m,\u001b[0m \u001b[0mkey\u001b[0m \u001b[0;32min\u001b[0m \u001b[0menumerate\u001b[0m\u001b[0;34m(\u001b[0m\u001b[0mtup\u001b[0m\u001b[0;34m)\u001b[0m\u001b[0;34m:\u001b[0m\u001b[0;34m\u001b[0m\u001b[0m\n\u001b[1;32m    997\u001b[0m             \u001b[0;32mif\u001b[0m \u001b[0mis_label_like\u001b[0m\u001b[0;34m(\u001b[0m\u001b[0mkey\u001b[0m\u001b[0;34m)\u001b[0m \u001b[0;32mor\u001b[0m \u001b[0misinstance\u001b[0m\u001b[0;34m(\u001b[0m\u001b[0mkey\u001b[0m\u001b[0;34m,\u001b[0m \u001b[0mtuple\u001b[0m\u001b[0;34m)\u001b[0m\u001b[0;34m:\u001b[0m\u001b[0;34m\u001b[0m\u001b[0m\n\u001b[0;32m--> 998\u001b[0;31m                 \u001b[0msection\u001b[0m \u001b[0;34m=\u001b[0m \u001b[0mself\u001b[0m\u001b[0;34m.\u001b[0m\u001b[0m_getitem_axis\u001b[0m\u001b[0;34m(\u001b[0m\u001b[0mkey\u001b[0m\u001b[0;34m,\u001b[0m \u001b[0maxis\u001b[0m\u001b[0;34m=\u001b[0m\u001b[0mi\u001b[0m\u001b[0;34m)\u001b[0m\u001b[0;34m\u001b[0m\u001b[0m\n\u001b[0m\u001b[1;32m    999\u001b[0m \u001b[0;34m\u001b[0m\u001b[0m\n\u001b[1;32m   1000\u001b[0m                 \u001b[0;31m# we have yielded a scalar ?\u001b[0m\u001b[0;34m\u001b[0m\u001b[0;34m\u001b[0m\u001b[0m\n",
      "\u001b[0;32m~/anaconda3/lib/python3.7/site-packages/pandas/core/indexing.py\u001b[0m in \u001b[0;36m_getitem_axis\u001b[0;34m(self, key, axis)\u001b[0m\n\u001b[1;32m   1909\u001b[0m \u001b[0;34m\u001b[0m\u001b[0m\n\u001b[1;32m   1910\u001b[0m         \u001b[0;31m# fall thru to straight lookup\u001b[0m\u001b[0;34m\u001b[0m\u001b[0;34m\u001b[0m\u001b[0m\n\u001b[0;32m-> 1911\u001b[0;31m         \u001b[0mself\u001b[0m\u001b[0;34m.\u001b[0m\u001b[0m_validate_key\u001b[0m\u001b[0;34m(\u001b[0m\u001b[0mkey\u001b[0m\u001b[0;34m,\u001b[0m \u001b[0maxis\u001b[0m\u001b[0;34m)\u001b[0m\u001b[0;34m\u001b[0m\u001b[0m\n\u001b[0m\u001b[1;32m   1912\u001b[0m         \u001b[0;32mreturn\u001b[0m \u001b[0mself\u001b[0m\u001b[0;34m.\u001b[0m\u001b[0m_get_label\u001b[0m\u001b[0;34m(\u001b[0m\u001b[0mkey\u001b[0m\u001b[0;34m,\u001b[0m \u001b[0maxis\u001b[0m\u001b[0;34m=\u001b[0m\u001b[0maxis\u001b[0m\u001b[0;34m)\u001b[0m\u001b[0;34m\u001b[0m\u001b[0m\n\u001b[1;32m   1913\u001b[0m \u001b[0;34m\u001b[0m\u001b[0m\n",
      "\u001b[0;32m~/anaconda3/lib/python3.7/site-packages/pandas/core/indexing.py\u001b[0m in \u001b[0;36m_validate_key\u001b[0;34m(self, key, axis)\u001b[0m\n\u001b[1;32m   1796\u001b[0m                 \u001b[0;32mraise\u001b[0m\u001b[0;34m\u001b[0m\u001b[0m\n\u001b[1;32m   1797\u001b[0m             \u001b[0;32mexcept\u001b[0m\u001b[0;34m:\u001b[0m\u001b[0;34m\u001b[0m\u001b[0m\n\u001b[0;32m-> 1798\u001b[0;31m                 \u001b[0merror\u001b[0m\u001b[0;34m(\u001b[0m\u001b[0;34m)\u001b[0m\u001b[0;34m\u001b[0m\u001b[0m\n\u001b[0m\u001b[1;32m   1799\u001b[0m \u001b[0;34m\u001b[0m\u001b[0m\n\u001b[1;32m   1800\u001b[0m     \u001b[0;32mdef\u001b[0m \u001b[0m_is_scalar_access\u001b[0m\u001b[0;34m(\u001b[0m\u001b[0mself\u001b[0m\u001b[0;34m,\u001b[0m \u001b[0mkey\u001b[0m\u001b[0;34m)\u001b[0m\u001b[0;34m:\u001b[0m\u001b[0;34m\u001b[0m\u001b[0m\n",
      "\u001b[0;32m~/anaconda3/lib/python3.7/site-packages/pandas/core/indexing.py\u001b[0m in \u001b[0;36merror\u001b[0;34m()\u001b[0m\n\u001b[1;32m   1783\u001b[0m                 raise KeyError(u\"the label [{key}] is not in the [{axis}]\"\n\u001b[1;32m   1784\u001b[0m                                .format(key=key,\n\u001b[0;32m-> 1785\u001b[0;31m                                        axis=self.obj._get_axis_name(axis)))\n\u001b[0m\u001b[1;32m   1786\u001b[0m \u001b[0;34m\u001b[0m\u001b[0m\n\u001b[1;32m   1787\u001b[0m             \u001b[0;32mtry\u001b[0m\u001b[0;34m:\u001b[0m\u001b[0;34m\u001b[0m\u001b[0m\n",
      "\u001b[0;31mKeyError\u001b[0m: 'the label [0] is not in the [index]'"
     ]
    }
   ],
   "source": [
    "\n",
    "\n",
    "\n",
    "\n",
    "\n",
    "#While the count is less than 550\n",
    "while ct < 550:\n",
    "    \n",
    "    cit = city_data.loc[ct, 'City']\n",
    "    url = \"http://api.openweathermap.org/data/2.5/weather?\"\n",
    "    query_url = f\"{url}appid={api_key}&units=imperial&q={cit}\"\n",
    "    response = requests.get(query_url).json()\n",
    "    r = requests.head(query_url)   #WRTF IS THIS LN?\n",
    "    \n",
    "    if response != [] and r.status_code == 200:\n",
    "        try:\n",
    "            print(f\"{city_num}. Getting information for {cit}.\")\n",
    "            city_name.append(response['name'])\n",
    "            temps.append(response['main']['temp'])\n",
    "            humidity.append(response['main']['humidity'])\n",
    "            cloudiness.append(response['clouds']['all'])\n",
    "            wind_speed.append(response['wind']['speed'])  \n",
    "            lat.append(response['coord']['lat'])\n",
    "            lng.append(response['coord']['lon'])\n",
    "            print(f'Sleeping for 1 second to avoid disconnection.')\n",
    "            time.sleep(1.0)\n",
    "            print(f'------------------------------------------')\n",
    "        except (KeyError, IndexError):\n",
    "            print(\"Missing field/result... skipping.\")\n",
    "                \n",
    "    ct += 1\n",
    "    city_num += 1\n",
    "    print(f'Moving on to the next city in the list...')\n",
    "\n",
    "\n",
    "\n"
   ]
  },
  {
   "cell_type": "code",
   "execution_count": null,
   "metadata": {},
   "outputs": [],
   "source": [
    "#Set up a parameters dictionary\n",
    "#params = {\"coord\":}      \n",
    "#dunno if value should be named var 'coords' or if I should run loop here\n",
    "\n",
    "\n",
    "\n",
    "\n",
    "\n",
    "##loop through the list of coordinates and perform request on each \n",
    "\n",
    "\n",
    "\n",
    "for coord in range(550):\n",
    "    ##dunno botu below\n",
    "    city_value = city_filter_df.loc[j, 'City']\n",
    "    #above is from greg's code\n",
    "    ###Build partial query URL\n",
    "    query_url = f\"{url}appid={api_key}&units={units}&q={city_value}\"\n",
    "    ###make request and convert to json\n",
    "    response = requests.get(query_url, params=params).json()\n",
    "    print(response)\n",
    "    city_name.append(response['name'])\n",
    "    city_num.append(response['id'])\n",
    "    coords.append(response['coord'])\n",
    "\n"
   ]
  },
  {
   "cell_type": "code",
   "execution_count": null,
   "metadata": {},
   "outputs": [],
   "source": [
    "#Get the cities' data and convert to JSON\n",
    "#cities_response = requests.get(query_url)\n",
    "#cities_json = cities_response.json()"
   ]
  },
  {
   "cell_type": "code",
   "execution_count": null,
   "metadata": {},
   "outputs": [],
   "source": [
    "#Create DF from cities, city_name, city_num\n",
    "\n",
    "#city_dict = {\"cities\": cities, \"city name\": city_name, \"city ID\" : city_num}\n",
    "#city_data = pd.DataFrame(city_dict)\n",
    "#city_data.head()"
   ]
  },
  {
   "cell_type": "code",
   "execution_count": null,
   "metadata": {},
   "outputs": [],
   "source": [
    "#rough scatter code\n",
    "\n",
    "####max x value for our chart is +90\n",
    "# x_limit = 90\n",
    "#x_axis = (-90, x_limit)\n",
    "#plt.title(\"Temperature (F) vs. Latitude\")\n",
    "#plt.xlim(a, b)\n",
    "#plt.ylim(a, b)\n",
    "#plt.scatter(city_data[\"lat\"], city_data[\"temp\"], marker= , facecolors=\"red\", edgecolors=\"black\",\n",
    "#            s=x_axis, alpha=0.75 )\n",
    "#plt.savefig(\"TemperatureVsLatitude.png\")\n",
    "\n",
    "\n",
    "####max x value for our chart is +90\n",
    "# x_limit = 90\n",
    "#x_axis = (-90, x_limit)\n",
    "#plt.title(\"Humidity % vs. Latitude\")\n",
    "#plt.xlim(a, b)\n",
    "#plt.ylim(a, b)\n",
    "#plt.scatter(city_data[\"lat\"], city_data[\"humidity\"], marker= , facecolors=\"red\", edgecolors=\"black\",\n",
    "#            s=x_axis, alpha=0.75 )\n",
    "#plt.savefig(\"HumidityVsLatitude.png\")\n",
    "\n",
    "\n",
    "####max x value for our chart is +90\n",
    "# x_limit = 90\n",
    "#x_axis = (-90, x_limit)\n",
    "#plt.title(\"Cloudiness % vs. Latitude\")\n",
    "#plt.xlim(a, b)\n",
    "#plt.ylim(a, b)\n",
    "#plt.scatter(city_data[\"lat\"], city_data[\"clouds\"], marker= , facecolors=\"red\", edgecolors=\"black\",\n",
    "#            s=x_axis, alpha=0.75 )\n",
    "#plt.savefig(\"CloudinessVsLatitude.png\")\n",
    "\n",
    "\n",
    "####max x value for our chart is +90\n",
    "# x_limit = 90\n",
    "#x_axis = (-90, x_limit)\n",
    "#plt.title(\"Wind Speed (MPH) vs. Latitude\")\n",
    "#plt.xlim(a, b)\n",
    "#plt.ylim(a, b)\n",
    "#plt.scatter(city_data[\"lat\"], city_data[\"wind\":{\"speed\"}], marker= , facecolors=\"red\", edgecolors=\"black\",\n",
    "#            s=x_axis, alpha=0.75 )\n",
    "#plt.savefig(\"WindSpeedVsLatitude.png\")"
   ]
  },
  {
   "cell_type": "code",
   "execution_count": 125,
   "metadata": {},
   "outputs": [],
   "source": [
    "###########################################################\n",
    "\n",
    "#settings = {\"units\": \"metric\", \"lang\": \"EN\"}\n",
    "settings = {\"APPID\": api_key, \"units\": \"imperial\"}"
   ]
  },
  {
   "cell_type": "code",
   "execution_count": 126,
   "metadata": {},
   "outputs": [],
   "source": [
    "##Declare lists/vars\n",
    "\n",
    "city_name = []\n",
    "lat = []\n",
    "lng = []\n",
    "temps = []\n",
    "humidity = []\n",
    "cloudiness = []\n",
    "wind_speed = []\n",
    "\n",
    "\n",
    "\n"
   ]
  },
  {
   "cell_type": "code",
   "execution_count": 127,
   "metadata": {},
   "outputs": [
    {
     "name": "stdout",
     "output_type": "stream",
     "text": [
      "No city near random coordinates.\n",
      "[('Tubarjal', 30.4999, 38.216, 38.27, 94, 44, 3.38)]\n",
      "[('Ostān-e Fārs', 29, 53, 19.55, 82, 24, 1.14)]\n",
      "[('Yar-Sale', 66.8333, 70.8333, 23.15, 87, 92, 17.13)]\n",
      "No city near random coordinates.\n",
      "[('Pavilosta', 56.8879, 21.1859, 30.2, 86, 88, 13)]\n",
      "[('Assab', 13.0092, 42.7394, 68.96, 94, 56, 6.96)]\n"
     ]
    }
   ],
   "source": [
    "# make long and lat random numbers between 1 and X (max value for each)\n",
    "\n",
    "\n",
    "i = 0\n",
    "while i < 550: \n",
    "    rand_lat= random.randint(1, 90)\n",
    "    rand_lng= random.randint(1, 180)\n",
    "    location = (rand_lat, rand_lng)\n",
    "    data = owm.find_cities_by_geo_coord(location, 1, **settings)\n",
    "    if data != []: #and r.status_code == 200:\n",
    "        i += 1\n",
    "\n",
    "        city_name.append(str(data.select([\"name\"]))[3:-4])\n",
    "        lat.append(str(data.select([\"coord.lat\"]))[3:-4])\n",
    "        lng.append(str(data.select([\"coord.lon\"]))[3:-4])\n",
    "        temps.append(str(data.select([\"main.temp\"]))[2:-3])\n",
    "        humidity.append(str(data.select([\"main.humidity\"]))[2:-3])\n",
    "        cloudiness.append(str(data.select([\"clouds.all\"]))[2:-3])\n",
    "        wind_speed.append(str(data.select([\"wind.speed\"]))[2:-3])\n",
    "\n",
    "        print(data.select([\"name\", \"coord.lat\", \"coord.lon\", \"main.temp\", \"main.humidity\", \"clouds.all\", \"wind.speed\"]))\n",
    "    else:\n",
    "        print(\"No city near random coordinates.\")\n",
    "\n",
    "\n",
    "    \n",
    "#print(data)\n",
    "# if there is something returned, add to counter x. if nothing is returned, do not add to x\n",
    "# while x < 500\n",
    "# do this\n",
    "# random number for long and lat\n"
   ]
  },
  {
   "cell_type": "code",
   "execution_count": null,
   "metadata": {},
   "outputs": [],
   "source": []
  },
  {
   "cell_type": "code",
   "execution_count": 128,
   "metadata": {},
   "outputs": [
    {
     "data": {
      "text/html": [
       "<div>\n",
       "<style scoped>\n",
       "    .dataframe tbody tr th:only-of-type {\n",
       "        vertical-align: middle;\n",
       "    }\n",
       "\n",
       "    .dataframe tbody tr th {\n",
       "        vertical-align: top;\n",
       "    }\n",
       "\n",
       "    .dataframe thead th {\n",
       "        text-align: right;\n",
       "    }\n",
       "</style>\n",
       "<table border=\"1\" class=\"dataframe\">\n",
       "  <thead>\n",
       "    <tr style=\"text-align: right;\">\n",
       "      <th></th>\n",
       "      <th>City Name</th>\n",
       "      <th>Latitude</th>\n",
       "      <th>Longitute</th>\n",
       "      <th>Temperature</th>\n",
       "      <th>Humidity</th>\n",
       "      <th>Cloudiness</th>\n",
       "      <th>Wind Speed</th>\n",
       "    </tr>\n",
       "  </thead>\n",
       "  <tbody>\n",
       "    <tr>\n",
       "      <th>0</th>\n",
       "      <td>Tubarjal</td>\n",
       "      <td>0.499</td>\n",
       "      <td>8.21</td>\n",
       "      <td>38.27</td>\n",
       "      <td>94</td>\n",
       "      <td>44</td>\n",
       "      <td>3.38</td>\n",
       "    </tr>\n",
       "    <tr>\n",
       "      <th>1</th>\n",
       "      <td>Ostān-e Fārs</td>\n",
       "      <td></td>\n",
       "      <td></td>\n",
       "      <td>19.55</td>\n",
       "      <td>82</td>\n",
       "      <td>24</td>\n",
       "      <td>1.14</td>\n",
       "    </tr>\n",
       "    <tr>\n",
       "      <th>2</th>\n",
       "      <td>Yar-Sale</td>\n",
       "      <td>6.833</td>\n",
       "      <td>0.833</td>\n",
       "      <td>23.15</td>\n",
       "      <td>87</td>\n",
       "      <td>92</td>\n",
       "      <td>17.13</td>\n",
       "    </tr>\n",
       "    <tr>\n",
       "      <th>3</th>\n",
       "      <td>Pavilosta</td>\n",
       "      <td>6.887</td>\n",
       "      <td>1.185</td>\n",
       "      <td>30.2</td>\n",
       "      <td>86</td>\n",
       "      <td>88</td>\n",
       "      <td>13</td>\n",
       "    </tr>\n",
       "    <tr>\n",
       "      <th>4</th>\n",
       "      <td>Assab</td>\n",
       "      <td>3.009</td>\n",
       "      <td>2.739</td>\n",
       "      <td>68.96</td>\n",
       "      <td>94</td>\n",
       "      <td>56</td>\n",
       "      <td>6.96</td>\n",
       "    </tr>\n",
       "  </tbody>\n",
       "</table>\n",
       "</div>"
      ],
      "text/plain": [
       "      City Name Latitude Longitute Temperature Humidity Cloudiness Wind Speed\n",
       "0      Tubarjal    0.499      8.21       38.27       94         44       3.38\n",
       "1  Ostān-e Fārs                          19.55       82         24       1.14\n",
       "2      Yar-Sale    6.833     0.833       23.15       87         92      17.13\n",
       "3     Pavilosta    6.887     1.185        30.2       86         88         13\n",
       "4         Assab    3.009     2.739       68.96       94         56       6.96"
      ]
     },
     "execution_count": 128,
     "metadata": {},
     "output_type": "execute_result"
    }
   ],
   "source": [
    "###Create empty dataframe to store all desired output data\n",
    "\n",
    "\n",
    "city_dict = { \"City Name\": city_name, \"Latitude\": lat, \"Longitute\": lng, \"Temperature\": temps, \"Humidity\": humidity,\n",
    "             \"Cloudiness\": cloudiness, \"Wind Speed\": wind_speed}\n",
    "city_data = pd.DataFrame(city_dict)\n",
    "city_data.head()\n"
   ]
  },
  {
   "cell_type": "code",
   "execution_count": null,
   "metadata": {},
   "outputs": [],
   "source": []
  }
 ],
 "metadata": {
  "kernelspec": {
   "display_name": "Python 3",
   "language": "python",
   "name": "python3"
  },
  "language_info": {
   "codemirror_mode": {
    "name": "ipython",
    "version": 3
   },
   "file_extension": ".py",
   "mimetype": "text/x-python",
   "name": "python",
   "nbconvert_exporter": "python",
   "pygments_lexer": "ipython3",
   "version": "3.7.0"
  }
 },
 "nbformat": 4,
 "nbformat_minor": 2
}
